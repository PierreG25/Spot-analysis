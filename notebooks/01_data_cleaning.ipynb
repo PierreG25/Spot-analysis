{
 "cells": [
  {
   "cell_type": "code",
   "execution_count": 69,
   "id": "6f2edd91",
   "metadata": {},
   "outputs": [
    {
     "name": "stdout",
     "output_type": "stream",
     "text": [
      "The autoreload extension is already loaded. To reload it, use:\n",
      "  %reload_ext autoreload\n"
     ]
    }
   ],
   "source": [
    "# Auto-reload setup\n",
    "%load_ext autoreload\n",
    "%autoreload 2"
   ]
  },
  {
   "cell_type": "code",
   "execution_count": 70,
   "id": "6973b4c4",
   "metadata": {},
   "outputs": [
    {
     "name": "stdout",
     "output_type": "stream",
     "text": [
      "Successful import\n"
     ]
    }
   ],
   "source": [
    "import sys\n",
    "import os\n",
    "sys.path.append(os.path.abspath('../src'))\n",
    "from data_processing import *\n",
    "print('Successful import')"
   ]
  },
  {
   "cell_type": "code",
   "execution_count": 71,
   "id": "ed2b415e",
   "metadata": {},
   "outputs": [],
   "source": [
    "folder = '../data/raw'\n",
    "merit_order_effect = True\n",
    "types = ['prices_raw', 'total_load_day_ahead_raw', 'generation_production_raw']\n",
    "\n",
    "grouped = group_files_by_type(folder, types, extension='.csv')\n",
    "dfs = load_dataframes(grouped)\n",
    "\n",
    "# Access each DataFrame\n",
    "df_prices = dfs['prices_raw']\n",
    "df_load = dfs['total_load_day_ahead_raw']\n",
    "df_gen = dfs['generation_production_raw']"
   ]
  },
  {
   "cell_type": "code",
   "execution_count": 72,
   "id": "c2ff11a9",
   "metadata": {},
   "outputs": [
    {
     "name": "stdout",
     "output_type": "stream",
     "text": [
      "OUI\n",
      "OUI\n",
      "OUI\n",
      "OUI\n"
     ]
    }
   ],
   "source": [
    "df_load = [drop_unecessary_columns(df, 'Day-ahead Total Load Forecast [MW] - BZN|FR') for df in df_load] \n",
    "df_load = [rename_and_reoder_columns(df, None, ['Date', 'Load']) for df in df_load]\n",
    "df_load = [setup_time(df, 'Date', '%d.%m.%Y %H:%M') for df in df_load]\n",
    "df_load = [fill_hourly_nans_by_rolling_mean(df, 'Date', 'Load') for df in df_load]\n",
    "\n",
    "df_load = concat_data(df_load)\n",
    "# df_summary(df_load)\n",
    "df_load.to_csv('../data/clean/exploitable/Concat_load.csv', index=False)"
   ]
  },
  {
   "cell_type": "code",
   "execution_count": 73,
   "id": "d17ff370",
   "metadata": {},
   "outputs": [],
   "source": [
    "# df_gen = [drop_unecessary_columns(df, [\"Area\",\"Biomass - Actual Aggregated [MW]\",\"Energy storage - Actual Aggregated [MW]\",\"Fossil Brown coal/Lignite - Actual Aggregated [MW]\",\n",
    "#                                        \"Fossil Coal-derived gas - Actual Aggregated [MW]\",\"Fossil Hard coal - Actual Aggregated [MW]\",\n",
    "#                                        \"Fossil Oil - Actual Aggregated [MW]\",\"Fossil Oil shale - Actual Aggregated [MW]\",\"Fossil Peat - Actual Aggregated [MW]\",\n",
    "#                                        \"Geothermal - Actual Aggregated [MW]\",\"Hydro Pumped Storage - Actual Aggregated [MW]\",\"Hydro Pumped Storage - Actual Consumption [MW]\",\n",
    "#                                        \"Hydro Run-of-river and poundage - Actual Aggregated [MW]\",\"Hydro Water Reservoir - Actual Aggregated [MW]\",\"Marine - Actual Aggregated [MW]\",\n",
    "#                                        \"Other - Actual Aggregated [MW]\",\"Other renewable - Actual Aggregated [MW]\",\"Waste - Actual Aggregated [MW]\"]) for df in df_gen] \n",
    "# df_gen = [rename_and_reoder_columns(df, None, ['Date','Fossil_gas', 'Nuclear', 'Solar', 'Wind_Offshore', 'Wind_Onshore']) for df in df_gen]\n",
    "# df_gen = [setup_time(df, 'Date', '%d.%m.%Y %H:%M') for df in df_gen]\n",
    "# df_gen = [fill_hourly_nans_by_rolling_mean(df, 'Date', 'Nuclear') for df in df_gen]\n",
    "# df_gen = [fill_hourly_nans_by_rolling_mean(df, 'Date', 'Fossil_gas') for df in df_gen]\n",
    "# df_gen = [fill_hourly_nans_by_rolling_mean(df, 'Date', 'Solar') for df in df_gen]\n",
    "# df_gen = [fill_hourly_nans_by_rolling_mean(df, 'Date', 'Wind_Offshore') for df in df_gen]\n",
    "# df_gen = [fill_hourly_nans_by_rolling_mean(df, 'Date', 'Wind_Onshore') for df in df_gen]\n",
    "\n",
    "# df_gen = concat_data(df_gen)\n",
    "# # df_summary(df_gen)\n",
    "\n",
    "# df_gen.to_csv('../data/clean/exploitable/Concat_gen.csv', index=False)"
   ]
  },
  {
   "cell_type": "code",
   "execution_count": 74,
   "id": "e7878959",
   "metadata": {},
   "outputs": [
    {
     "name": "stdout",
     "output_type": "stream",
     "text": [
      "Index(['Renewables', 'Hydro', 'Nuclear', 'Lignite', 'Hard coal', 'Natural gas',\n",
      "       'Fuel oil'],\n",
      "      dtype='object')\n",
      "OUI\n",
      "OUI\n",
      "OUI\n",
      "OUI\n"
     ]
    }
   ],
   "source": [
    "if merit_order_effect:\n",
    "    for df in df_gen:\n",
    "        df['Renewables'] = df[[\"Other renewable - Actual Aggregated [MW]\",\"Solar - Actual Aggregated [MW]\",\n",
    "                \"Waste - Actual Aggregated [MW]\",\"Wind Offshore - Actual Aggregated [MW]\",\"Wind Onshore - Actual Aggregated [MW]\",\n",
    "                \"Geothermal - Actual Aggregated [MW]\", \"Biomass - Actual Aggregated [MW]\"]].sum(axis=1)\n",
    "        df['Hydro'] = df[[\"Hydro Run-of-river and poundage - Actual Aggregated [MW]\",\n",
    "                                \"Hydro Water Reservoir - Actual Aggregated [MW]\"]].sum(axis=1)\n",
    "        df['Nuclear'] = df[\"Nuclear - Actual Aggregated [MW]\"]\n",
    "        df['Lignite'] = df[\"Fossil Brown coal/Lignite - Actual Aggregated [MW]\"]\n",
    "        df['Hard coal'] = df[\"Fossil Hard coal - Actual Aggregated [MW]\"]\n",
    "        df['Natural gas'] = df[[\"Fossil Coal-derived gas - Actual Aggregated [MW]\",\"Fossil Gas - Actual Aggregated [MW]\"]].sum(axis=1)\n",
    "        df['Fuel oil'] = df[[\"Fossil Oil - Actual Aggregated [MW]\",\"Fossil Oil shale - Actual Aggregated [MW]\",\n",
    "                                    \"Fossil Peat - Actual Aggregated [MW]\"]].sum(axis=1)\n",
    "    df_gen = [keep_necessary_columns(df, ['MTU', 'Renewables', 'Hydro', 'Nuclear', 'Lignite', \n",
    "                                          'Hard coal', 'Natural gas', 'Fuel oil']) for df in df_gen]\n",
    "    df_gen = [rename_and_reoder_columns(df, None, ['Date', 'Renewables', 'Hydro', 'Nuclear', 'Lignite', \n",
    "                                          'Hard coal', 'Natural gas', 'Fuel oil']) for df in df_gen]\n",
    "    df_gen = [setup_time(df, 'Date', '%d.%m.%Y %H:%M') for df in df_gen]\n",
    "    print(df_gen[0].columns[1:])\n",
    "    for col in df_gen[0].columns[1:]:\n",
    "        df_gen = [fill_hourly_nans_by_rolling_mean(df, 'Date', f'{col}') for df in df_gen]\n",
    "else:\n",
    "    df_gen = [drop_unecessary_columns(df, [\"Area\",\"Biomass - Actual Aggregated [MW]\",\"Energy storage - Actual Aggregated [MW]\",\"Fossil Brown coal/Lignite - Actual Aggregated [MW]\",\n",
    "                                        \"Fossil Coal-derived gas - Actual Aggregated [MW]\",\"Fossil Hard coal - Actual Aggregated [MW]\",\n",
    "                                        \"Fossil Oil - Actual Aggregated [MW]\",\"Fossil Oil shale - Actual Aggregated [MW]\",\"Fossil Peat - Actual Aggregated [MW]\",\n",
    "                                        \"Geothermal - Actual Aggregated [MW]\",\"Hydro Pumped Storage - Actual Aggregated [MW]\",\"Hydro Pumped Storage - Actual Consumption [MW]\",\n",
    "                                        \"Hydro Run-of-river and poundage - Actual Aggregated [MW]\",\"Hydro Water Reservoir - Actual Aggregated [MW]\",\"Marine - Actual Aggregated [MW]\",\n",
    "                                        \"Other - Actual Aggregated [MW]\",\"Other renewable - Actual Aggregated [MW]\",\"Waste - Actual Aggregated [MW]\"]) for df in df_gen] \n",
    "    df_gen = [rename_and_reoder_columns(df, None, ['Date','Fossil_gas', 'Nuclear', 'Solar', 'Wind_Offshore', 'Wind_Onshore']) for df in df_gen]\n",
    "    df_gen = [setup_time(df, 'Date', '%d.%m.%Y %H:%M') for df in df_gen]\n",
    "    df_gen = [fill_hourly_nans_by_rolling_mean(df, 'Date', 'Nuclear') for df in df_gen]\n",
    "    df_gen = [fill_hourly_nans_by_rolling_mean(df, 'Date', 'Fossil_gas') for df in df_gen]\n",
    "    df_gen = [fill_hourly_nans_by_rolling_mean(df, 'Date', 'Solar') for df in df_gen]\n",
    "    df_gen = [fill_hourly_nans_by_rolling_mean(df, 'Date', 'Wind_Offshore') for df in df_gen]\n",
    "    df_gen = [fill_hourly_nans_by_rolling_mean(df, 'Date', 'Wind_Onshore') for df in df_gen]\n",
    "\n",
    "df_gen = concat_data(df_gen)\n",
    "# df_summary(df_gen)\n",
    "\n",
    "df_gen.to_csv('../data/clean/exploitable/Concat_gen.csv', index=False)"
   ]
  },
  {
   "cell_type": "code",
   "execution_count": 75,
   "id": "543ae835",
   "metadata": {},
   "outputs": [
    {
     "name": "stdout",
     "output_type": "stream",
     "text": [
      "OUI\n",
      "OUI\n",
      "OUI\n",
      "OUI\n"
     ]
    }
   ],
   "source": [
    "df_prices = [drop_unecessary_columns(df, ['Area', 'Sequence', 'Intraday Period (CET/CEST)', 'Intraday Price (EUR/MWh)']) for df in df_prices] \n",
    "df_prices = [rename_and_reoder_columns(df, None, ['Date', 'Price']) for df in df_prices]\n",
    "df_prices = [setup_time(df, 'Date', '%d/%m/%Y %H:%M:%S') for df in df_prices]\n",
    "df_prices = [fill_hourly_nans_by_rolling_mean(df, 'Date', 'Price') for df in df_prices]\n",
    "\n",
    "df_prices = concat_data(df_prices)\n",
    "# df_summary(df_prices)\n",
    "\n",
    "df_prices.to_csv('../data/clean/exploitable/Concat_price.csv', index=False)"
   ]
  },
  {
   "cell_type": "code",
   "execution_count": 76,
   "id": "1770f2ae",
   "metadata": {},
   "outputs": [],
   "source": [
    "df_merged = merge_df([df_prices, df_load, df_gen], 'Date', 'inner')\n",
    "if merit_order_effect:\n",
    "    df_merged.to_csv('../data/clean/exploitable/merged_data_merit.csv', index=False)\n",
    "else :\n",
    "    df_merged.to_csv('../data/clean/exploitable/merged_data.csv', index=False)\n",
    "# df_summary(df_merged)"
   ]
  }
 ],
 "metadata": {
  "kernelspec": {
   "display_name": "Python 3",
   "language": "python",
   "name": "python3"
  },
  "language_info": {
   "codemirror_mode": {
    "name": "ipython",
    "version": 3
   },
   "file_extension": ".py",
   "mimetype": "text/x-python",
   "name": "python",
   "nbconvert_exporter": "python",
   "pygments_lexer": "ipython3",
   "version": "3.13.3"
  }
 },
 "nbformat": 4,
 "nbformat_minor": 5
}
