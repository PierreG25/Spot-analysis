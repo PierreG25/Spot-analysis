{
 "cells": [
  {
   "cell_type": "markdown",
   "id": "19e12140",
   "metadata": {},
   "source": [
    "Steps:\n",
    "- Gradient boosting model: XGBoost/LightGBM\n",
    "- SHAP values: show which features drive predictions\n",
    "- \n",
    "\n",
    "Plots:\n",
    "\n",
    "- Plot forecast vs actual vs entsoe forecast\n",
    "- Error distribution plot\n",
    "- Parity plot (scatter plot of actual vs forecast with 45 deg line)\n",
    "\n",
    "- SHAPE Summary plot (beeswarm)\n",
    "- SHAP bar plot (global importance)\n",
    "- SHAP Force plot (local explanation)"
   ]
  }
 ],
 "metadata": {
  "language_info": {
   "name": "python"
  }
 },
 "nbformat": 4,
 "nbformat_minor": 5
}
